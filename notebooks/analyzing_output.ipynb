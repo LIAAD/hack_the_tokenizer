{
 "cells": [
  {
   "cell_type": "code",
   "execution_count": 3,
   "id": "5f6b551e",
   "metadata": {},
   "outputs": [
    {
     "name": "stdout",
     "output_type": "stream",
     "text": [
      "/home/yali/MEGA/Hack The Tockenizer/notebooks\n"
     ]
    }
   ],
   "source": [
    "%cd /home/yali/MEGA/Hack The Tockenizer/notebooks"
   ]
  },
  {
   "cell_type": "code",
   "execution_count": 11,
   "id": "7b83a764",
   "metadata": {},
   "outputs": [],
   "source": [
    "import os\n",
    "import json\n",
    "import datetime as dt\n",
    "from io import StringIO\n",
    "import ipywidgets\n",
    "from IPython.display import display, HTML\n",
    "from plotly.subplots import make_subplots\n",
    "import plotly.graph_objects as go\n",
    "\n",
    "import tqdm\n",
    "import pandas as pd\n",
    "\n",
    "from pathlib import Path\n",
    "\n",
    "output_dir = Path(os.getcwd()).parent / \"outputs\"\n",
    "\n",
    "# Set plotly as the default plotting backend\n",
    "pd.options.plotting.backend = \"plotly\""
   ]
  },
  {
   "cell_type": "code",
   "execution_count": 6,
   "id": "2630ec43",
   "metadata": {},
   "outputs": [
    {
     "name": "stderr",
     "output_type": "stream",
     "text": [
      "Loading files: 100%|█████████████████████████████████████████████████████████████████████████████████████████████████████████████████████| 2/2 [00:01<00:00,  1.84it/s]\n"
     ]
    }
   ],
   "source": [
    "dfs: dict[str|int, pd.DataFrame] = {}\n",
    "results: dict[str, dict] = {}\n",
    "for file in tqdm.tqdm(os.listdir(output_dir), desc='Loading files'):\n",
    "    if file.endswith(\"csv\"):\n",
    "        key = dt.datetime.strptime(str(file), 'analysis_%Y%m%d%H%M%S.csv').strftime('analysis@%Y-%m-%d %H:%M:%S')\n",
    "        dfs[key] = pd.read_csv(output_dir / file)\n",
    "        dfs[len(dfs.keys()) // 2] = dfs[key]   # Save a copy with \"num index\" for easier access\n",
    "    else:\n",
    "        with open(output_dir / file, 'r') as f:\n",
    "            key = dt.datetime.strptime(str(file), 'results_%Y%m%d%H%M%S.json').strftime('results@%Y-%m-%d %H:%M:%S')\n",
    "            results[key] = json.load(f)"
   ]
  },
  {
   "cell_type": "markdown",
   "id": "40377a0d",
   "metadata": {},
   "source": [
    "# Defining Analysis Functions"
   ]
  },
  {
   "cell_type": "code",
   "execution_count": 7,
   "id": "0c4064f5",
   "metadata": {},
   "outputs": [],
   "source": [
    "# Log Scale menus\n",
    "log_button = lambda x, y, axis: dict(\n",
    "    type=\"buttons\",\n",
    "    x=x,\n",
    "    y=y,\n",
    "    active=0,  # Set initial state (0 for linear)\n",
    "    buttons=[\n",
    "        dict(\n",
    "            label=\"Log (X-Axis)\",\n",
    "            method=\"relayout\",\n",
    "            args=[{f\"{axis}.type\": \"linear\"}],\n",
    "            args2=[{f\"{axis}.type\": \"log\"}]\n",
    "        )\n",
    "    ]\n",
    ")"
   ]
  },
  {
   "cell_type": "code",
   "execution_count": 26,
   "id": "ccb1629b",
   "metadata": {},
   "outputs": [],
   "source": [
    "def get_rank_comparison(df: pd.DataFrame, *__, width=1000, **_):\n",
    "\n",
    "    new_tokens = df.groupby(by=['new_token_rank'], as_index=False)[['new_token_id']].count()\n",
    "    old_tokens = df.groupby(by=['old_token_rank'], as_index=False)[['new_token_id']].count() \n",
    "\n",
    "    new_tokens.columns = ['rank', '#new_token']\n",
    "    old_tokens.columns = ['rank', '#old_token']\n",
    "\n",
    "    df = new_tokens.merge(old_tokens, how='outer').fillna(0)\n",
    "    df = df.sort_values(by='rank', ascending=True).reset_index(drop=True)\n",
    "    df['#new_token_acc'] = df['#new_token'].cumsum()\n",
    "    df['#old_token_acc'] = df['#old_token'].cumsum()\n",
    "\n",
    "    fig = make_subplots(rows=1, cols=2, subplot_titles=['Rank Distribution', 'Rank Accumulative Distribution'])\n",
    "    # Plotting the normal view\n",
    "    fig_normal = df.plot(x='rank', y=['#new_token', '#old_token'], title='Rank Distribution')\n",
    "\n",
    "    # Plotting accumulative view\n",
    "    fig_acc = df.plot(x='rank', y=['#new_token_acc', '#old_token_acc'], title='Rank Acc Distribution')\n",
    "\n",
    "\n",
    "    # Add traces to subplot\n",
    "    for trace in fig_normal.data:\n",
    "        fig.add_trace(trace, row=1, col=1)\n",
    "    for trace in fig_acc.data:\n",
    "        fig.add_trace(trace, row=1, col=2)\n",
    "\n",
    "    # Update layout\n",
    "    button_width = 0.30\n",
    "    button_coords = (0.12, 1.15)\n",
    "    fig.update_layout(\n",
    "        title_text=\"Rank Distribution [NewTokens Vs OldTokens]\",\n",
    "        showlegend=True,\n",
    "        width=width*2.2,\n",
    "        updatemenus = [\n",
    "            log_button(button_coords[0], button_coords[1], 'xaxis'),\n",
    "            log_button(button_coords[0]+button_width*1, button_coords[1], 'yaxis'),\n",
    "            log_button(button_coords[0]+button_width*1 + 0.25, button_coords[1], 'xaxis2'),\n",
    "            log_button(button_coords[0]+button_width*2 + 0.25, button_coords[1], 'yaxis2'),\n",
    "        ] # type: ignore\n",
    "    )\n",
    "    return [fig]\n",
    "\n",
    "def get_logit_comparison(df: pd.DataFrame, *__, width=1000, **_):\n",
    "    new_tokens = df.groupby(by=['new_token_logits'], as_index=False)[['new_token_id']].count()\n",
    "    old_tokens = df.groupby(by=['old_token_logits'], as_index=False)[['new_token_id']].count() \n",
    "\n",
    "    new_tokens.columns = ['logits', '#new_token']\n",
    "    old_tokens.columns = ['logits', '#old_token']\n",
    "\n",
    "    df = new_tokens.merge(old_tokens, how='outer').fillna(0)\n",
    "    df = df.sort_values(by='logits', ascending=True).reset_index(drop=True)\n",
    "\n",
    "    # Plotting the normal view\n",
    "    fig = df.plot(x='logits', y=['#new_token', '#old_token'], title='Logits Distribution')\n",
    "\n",
    "    # Update layout\n",
    "    button_width = 0.30\n",
    "    button_coords = (0.12, 1.15)\n",
    "    fig.update_layout(\n",
    "        title_text=\"Logits Distribution [NewTokens Vs OldTokens]\",\n",
    "        showlegend=True,\n",
    "        width=width*2.2,\n",
    "        updatemenus = [\n",
    "            log_button(button_coords[0], button_coords[1], 'xaxis'),\n",
    "            log_button(button_coords[0]+button_width*1, button_coords[1], 'yaxis'),\n",
    "        ] # type: ignore\n",
    "    )\n",
    "    return [fig]\n",
    "\n",
    "import plotly.graph_objects as go\n",
    "\n",
    "def get_rank_diff_whiskers(df: pd.DataFrame, *__, width=1000, height=400, **_):\n",
    "    # Calculate rank differences for all models\n",
    "    df = df.copy()\n",
    "    df['rank_diff'] = df['new_token_rank'] - df['old_token_rank']\n",
    "    \n",
    "    # Get unique models and sort them for consistent ordering\n",
    "    models = sorted(df['model'].unique())\n",
    "    \n",
    "    figures = []\n",
    "    \n",
    "    # Create one vertical box plot per model\n",
    "    for model in models:\n",
    "        model_data = df[df['model'] == model]\n",
    "        \n",
    "        fig = go.Figure()\n",
    "        \n",
    "        fig.add_trace(go.Box(\n",
    "            y=model_data['rank_diff'],\n",
    "            name=model,\n",
    "            boxpoints='outliers',\n",
    "            marker_color='rgb(8,81,156)',\n",
    "            line_color='rgb(8,81,156)'\n",
    "        ))\n",
    "        \n",
    "        # Update layout for this figure\n",
    "        fig.update_layout(\n",
    "            title_text=f\"Rank Difference: {model} (New - Old Rank)\",\n",
    "            showlegend=False,\n",
    "            width=width,\n",
    "            height=height,\n",
    "            margin=dict(t=50, b=50, l=50, r=50),\n",
    "            yaxis_title=\"Rank Difference\"\n",
    "        )\n",
    "        \n",
    "        # Add horizontal reference line at y=0\n",
    "        fig.add_hline(y=0, line_dash=\"dash\", line_color=\"red\")\n",
    "        \n",
    "        figures.append(fig)\n",
    "    \n",
    "    return figures\n",
    "\n",
    "def get_metrics(result, version, *_, **__):\n",
    "    \n",
    "    output = []\n",
    "    for model_type, results in result['RESULTS'].items():\n",
    "        output.append({'model': result['RUN_CONFIGS']['model_name'], 'version': version, 'model_type': model_type}) \n",
    "        for metric in results['Metrics'].keys():\n",
    "            output[-1][metric] = results['Metrics'][metric]\n",
    "        for benchmark in results['Benchmarks'].keys():\n",
    "            output[-1][benchmark] = results['Benchmarks'][benchmark]['result']\n",
    "    display(ipywidgets.HTML(pd.DataFrame(output).to_html(index=False)))\n"
   ]
  },
  {
   "cell_type": "code",
   "execution_count": 27,
   "id": "91a17285",
   "metadata": {},
   "outputs": [],
   "source": [
    "def run_analysis(df, result: dict, *args, **kwargs):\n",
    "    display(ipywidgets.HTML('<h3>Run Config</h3>\\n<ul>{}</ul><h3>Metrics</h3>'.format('\\n'.join([f'<li>{k}: {v}</li>' for k, v in result['RUN_CONFIGS'].items()]))))\n",
    "    get_metrics(result, *args, **kwargs)\n",
    "    display(ipywidgets.HTML('<h3>Comparisons (NewTokens Vs OldTokens)</h3>'))\n",
    "    figs = []\n",
    "    figs.extend(get_rank_comparison(df, *args, **kwargs))\n",
    "    figs.extend(get_logit_comparison(df, *args, **kwargs))\n",
    "    figs.extend(get_rank_diff_whiskers(df, *args, **kwargs))\n",
    "    for fig in figs: fig.show()\n"
   ]
  },
  {
   "cell_type": "code",
   "execution_count": null,
   "id": "d3376069",
   "metadata": {},
   "outputs": [
    {
     "data": {
      "application/vnd.jupyter.widget-view+json": {
       "model_id": "439cecdd4518441988d2fbf1c6f8237a",
       "version_major": 2,
       "version_minor": 0
      },
      "text/plain": [
       "Dropdown(description='File:', index=1, options=('analysis@2025-07-17 08:42:12', 'all'), value='all')"
      ]
     },
     "metadata": {},
     "output_type": "display_data"
    },
    {
     "data": {
      "application/vnd.jupyter.widget-view+json": {
       "model_id": "c9cdeb301d904ca8b6a930d255e33725",
       "version_major": 2,
       "version_minor": 0
      },
      "text/plain": [
       "IntSlider(value=700, description='Width:', max=1000, min=200)"
      ]
     },
     "metadata": {},
     "output_type": "display_data"
    },
    {
     "data": {
      "application/vnd.jupyter.widget-view+json": {
       "model_id": "5bee95ce85044b88afb93c3f379910fb",
       "version_major": 2,
       "version_minor": 0
      },
      "text/plain": [
       "Button(button_style='info', description='Execute', style=ButtonStyle(), tooltip='Execute')"
      ]
     },
     "metadata": {},
     "output_type": "display_data"
    },
    {
     "data": {
      "application/vnd.jupyter.widget-view+json": {
       "model_id": "4743a048ea9344159449ac84e4718d2b",
       "version_major": 2,
       "version_minor": 0
      },
      "text/plain": [
       "Output(layout=Layout(border_bottom='1px solid black', border_left='1px solid black', border_right='1px solid b…"
      ]
     },
     "metadata": {},
     "output_type": "display_data"
    }
   ],
   "source": [
    "%matplotlib inline\n",
    "\n",
    "options = [str(file) for file in dfs.keys() if isinstance(file, str)]\n",
    "options.sort()\n",
    "file_selection: ipywidgets.Dropdown = ipywidgets.Dropdown(\n",
    "    options=options + ['all'],\n",
    "    value='all',\n",
    "    description='File:',\n",
    "    disabled=False,\n",
    ")\n",
    "width_slider: ipywidgets.IntSlider = ipywidgets.IntSlider(\n",
    "    value=700,\n",
    "    min=200,\n",
    "    max=1000,\n",
    "    step=1,\n",
    "    description='Width:',\n",
    "    orientation='horizontal',\n",
    "    readout=True,\n",
    "    readout_format='d'\n",
    ")\n",
    "height_slider: ipywidgets.IntSlider = ipywidgets.IntSlider(\n",
    "    value=400,\n",
    "    min=200,\n",
    "    max=1000,\n",
    "    step=1,\n",
    "    description='Height:',\n",
    "    orientation='horizontal',\n",
    "    readout=True,\n",
    "    readout_format='d'\n",
    ")\n",
    "execute_button = ipywidgets.Button(\n",
    "    description='Execute',\n",
    "    disabled=False,\n",
    "    button_style='info', # 'success', 'info', 'warning', 'danger' or ''\n",
    "    tooltip='Execute',\n",
    ")\n",
    "\n",
    "\n",
    "out: ipywidgets.Output = ipywidgets.Output(layout={'border': '1px solid black'})\n",
    "def on_button_clicked(_):\n",
    "    out.clear_output()\n",
    "    items = [file_selection.value]\n",
    "    if file_selection.value == 'all':\n",
    "        items = options.copy()\n",
    "    for analysis in items:\n",
    "        df = dfs[analysis] # type: ignore\n",
    "        result = results[analysis.replace('analysis', 'results')]  # type: ignore\n",
    "        with out:\n",
    "            # Filtering timestamp\n",
    "            display(ipywidgets.HTML('<h1 style=\"text-align:center\">MODEL: {}<h1>'.format(df['model'].min().replace('[NEW_TOKENS]', ''))))\n",
    "            display(ipywidgets.HTML(f'<h3 style=\"text-align:center; margin-top: -10px\">{analysis}</h3>'))\n",
    "\n",
    "            run_analysis(df, result, analysis, width=width_slider.value, heigt=height_slider.value)\n",
    "            display(ipywidgets.HTML('<div style=\"position: relative; width:100%; margin: 20px; height:4px;border-bottom: solid black 1px;border-top: solid black 1px;\"></divß>'))\n",
    "\n",
    "execute_button.on_click(on_button_clicked)\n",
    "\n",
    "display(file_selection)\n",
    "display(width_slider)\n",
    "display(execute_button)\n",
    "display(out)"
   ]
  },
  {
   "cell_type": "code",
   "execution_count": null,
   "id": "25cbea39",
   "metadata": {},
   "outputs": [],
   "source": [
    "qts vezes o token novo aparece a frente do token antigo\n",
    "    - Distribuicao de \"Distancias\""
   ]
  }
 ],
 "metadata": {
  "kernelspec": {
   "display_name": "Python 3 (ipykernel)",
   "language": "python",
   "name": "python3"
  },
  "language_info": {
   "codemirror_mode": {
    "name": "ipython",
    "version": 3
   },
   "file_extension": ".py",
   "mimetype": "text/x-python",
   "name": "python",
   "nbconvert_exporter": "python",
   "pygments_lexer": "ipython3",
   "version": "3.12.3"
  }
 },
 "nbformat": 4,
 "nbformat_minor": 5
}

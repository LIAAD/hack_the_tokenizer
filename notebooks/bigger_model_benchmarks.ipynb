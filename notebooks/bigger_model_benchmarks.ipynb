{
 "cells": [
  {
   "cell_type": "markdown",
   "id": "08318759",
   "metadata": {},
   "source": [
    "# Introduction\n",
    "\n",
    "\n",
    "Calculating benchmarks results for a bigger model (Qwen2.5-1.5B) before and after adding the new tokens"
   ]
  },
  {
   "cell_type": "markdown",
   "id": "34c3ba48",
   "metadata": {},
   "source": [
    "Initial imports and variable initialization"
   ]
  },
  {
   "cell_type": "code",
   "execution_count": 2,
   "id": "affd098f",
   "metadata": {},
   "outputs": [],
   "source": [
    "import torch\n",
    "import sys\n",
    "import pathlib\n",
    "import tqdm\n",
    "import os\n",
    "import re\n",
    "os.chdir('/home/yali/MEGA/Hack The Tockenizer/tests')\n",
    "sys.path.insert(1, pathlib.Path('..').resolve().as_posix())\n",
    "from src import utils, loader, hack\n",
    "from src.DatasetClass import ListDataset, TextDataset\n",
    "from torch.utils.data import DataLoader\n",
    "\n",
    "\n",
    "DEVICE                  = 'cuda'\n",
    "GENERATION_BATCH_SIZE   = 8\n",
    "MODEL                   = 'Qwen/Qwen2.5-1.5B-Instruct'"
   ]
  },
  {
   "cell_type": "markdown",
   "id": "6c7f3141",
   "metadata": {},
   "source": [
    "Loading the model"
   ]
  },
  {
   "cell_type": "code",
   "execution_count": 3,
   "id": "ab3e80b3",
   "metadata": {},
   "outputs": [
    {
     "name": "stderr",
     "output_type": "stream",
     "text": [
      "Sliding Window Attention is enabled but not implemented for `sdpa`; unexpected results may be encountered.\n"
     ]
    }
   ],
   "source": [
    "model, tokenizer = loader.load_model_and_tokenizer(\n",
    "    model_name=MODEL,\n",
    "    device=DEVICE,\n",
    "    model_kwargs = { 'torch_dtype': torch.bfloat16},\n",
    "    tokenizer_kwargs={'padding_side': 'left'}\n",
    ")\n",
    "original_tokenizer = loader.load_model_and_tokenizer(\n",
    "    model_name=MODEL,\n",
    "    device='cpu',\n",
    "    model_kwargs = { 'torch_dtype': torch.bfloat16},\n",
    "    tokenizer_kwargs={'padding_side': 'left'}\n",
    ")[1]"
   ]
  },
  {
   "cell_type": "markdown",
   "id": "1985d183",
   "metadata": {},
   "source": [
    "# CalamePT Benchmark\n",
    "\n",
    "Considering **ONLY** CalamePT, currently not considering the SuperGluePTPT"
   ]
  },
  {
   "cell_type": "code",
   "execution_count": 4,
   "id": "479618cd",
   "metadata": {},
   "outputs": [],
   "source": [
    "import src.benchmark as Benchmark\n",
    "from src.benchmark.CalamePT import CalamePT\n",
    "\n",
    "# Removing \"SuperGluePTPT\" from the Benchmarks\n",
    "benchmark = Benchmark.Benchmarks([CalamePT()])\n",
    "\n",
    "# Adding the Batch Size (to generate in parallel)\n",
    "benchmark.config['parallel_batch_size'] = GENERATION_BATCH_SIZE\n",
    "benchmark.config['max_new_tokens']      = max(len(tokenizer.encode(x)) for x in CalamePT().df['last_word'].values) + 1   # Maximum tokenization of predicted words"
   ]
  },
  {
   "cell_type": "markdown",
   "id": "800b2e69",
   "metadata": {},
   "source": [
    "## Base Model"
   ]
  },
  {
   "cell_type": "code",
   "execution_count": 5,
   "id": "df5bb4a7",
   "metadata": {},
   "outputs": [
    {
     "name": "stderr",
     "output_type": "stream",
     "text": [
      "<Qwen/Qwen2.5-1.5B-Instruct> Calculating inferences for inputs: 100%|██████████| 260/260 [01:18<00:00,  3.31it/s]"
     ]
    },
    {
     "name": "stdout",
     "output_type": "stream",
     "text": [
      "`CalamePT` Accuracy for Baseline Model `Qwen/Qwen2.5-1.5B-Instruct` = 45.81%\n"
     ]
    },
    {
     "name": "stderr",
     "output_type": "stream",
     "text": [
      "\n"
     ]
    }
   ],
   "source": [
    "benchmark_results = benchmark.run(model, tokenizer)\n",
    "print(f\"`CalamePT` Accuracy for Baseline Model `{model.name_or_path}` = {benchmark_results['CalamePT']['result']:.2%}\")"
   ]
  },
  {
   "cell_type": "markdown",
   "id": "fe0059b1",
   "metadata": {},
   "source": [
    "## Model with additional Tokens"
   ]
  },
  {
   "cell_type": "markdown",
   "id": "84468a91",
   "metadata": {},
   "source": [
    "### Adding new tokens to model"
   ]
  },
  {
   "cell_type": "markdown",
   "id": "a7bd9e40",
   "metadata": {},
   "source": [
    "1. Fetching the new tokens"
   ]
  },
  {
   "cell_type": "code",
   "execution_count": 4,
   "id": "8d32f52f",
   "metadata": {},
   "outputs": [
    {
     "name": "stdout",
     "output_type": "stream",
     "text": [
      "\n",
      "\n",
      "\n"
     ]
    }
   ],
   "source": [
    "# ----------------------------------------------------\n",
    "#           Train Tokenizer with PT Dataset               \n",
    "# ----------------------------------------------------\n",
    "# Step 1. Train a new portuguese vocabulary\n",
    "pt_tokenizer = hack.TokenizerHack(device=DEVICE).train_tokenizer(trainer_kwargs={'vocab_size': 10000})\n",
    "\n",
    "# Step 2. Find tokens in `pt_tokenizer` not in \n",
    "new_tokens = set(pt_tokenizer.get_vocab().keys())\n",
    "new_tokens = new_tokens.difference(set(tokenizer.vocab.keys()))\n",
    "# Removing the 'Ġ' tokens and fixing maybe some others\n",
    "new_tokens = set([tokenizer.decoder.decode([new_token]) for new_token in new_tokens])"
   ]
  },
  {
   "cell_type": "code",
   "execution_count": null,
   "id": "77a15e84",
   "metadata": {},
   "outputs": [
    {
     "data": {
      "text/plain": [
       "151665"
      ]
     },
     "execution_count": 30,
     "metadata": {},
     "output_type": "execute_result"
    }
   ],
   "source": [
    "len(original_tokenizer) "
   ]
  },
  {
   "cell_type": "code",
   "execution_count": null,
   "id": "4de0b70b",
   "metadata": {},
   "outputs": [
    {
     "data": {
      "text/plain": [
       "['Ġvida']"
      ]
     },
     "execution_count": 27,
     "metadata": {},
     "output_type": "execute_result"
    }
   ],
   "source": [
    "tokenizer.tokenize(\"vida\")"
   ]
  },
  {
   "cell_type": "code",
   "execution_count": 9,
   "id": "33238141",
   "metadata": {},
   "outputs": [
    {
     "data": {
      "text/plain": [
       "['e', 'mpre', 'go']"
      ]
     },
     "execution_count": 9,
     "metadata": {},
     "output_type": "execute_result"
    }
   ],
   "source": [
    "tokenizer.tokenize('emprego')"
   ]
  },
  {
   "cell_type": "code",
   "execution_count": 10,
   "id": "7ffe9c32",
   "metadata": {},
   "outputs": [
    {
     "data": {
      "text/plain": [
       "['emp', 'rego']"
      ]
     },
     "execution_count": 10,
     "metadata": {},
     "output_type": "execute_result"
    }
   ],
   "source": [
    "original_tokenizer.tokenize('emprego')"
   ]
  },
  {
   "cell_type": "code",
   "execution_count": 12,
   "id": "695ef9c5",
   "metadata": {},
   "outputs": [
    {
     "data": {
      "text/plain": [
       "['contr', 'ato']"
      ]
     },
     "execution_count": 12,
     "metadata": {},
     "output_type": "execute_result"
    }
   ],
   "source": [
    "original_tokenizer.tokenize('contrato')"
   ]
  },
  {
   "cell_type": "code",
   "execution_count": 33,
   "id": "ee3275ea",
   "metadata": {},
   "outputs": [
    {
     "data": {
      "text/plain": [
       "[31050]"
      ]
     },
     "execution_count": 33,
     "metadata": {},
     "output_type": "execute_result"
    }
   ],
   "source": [
    "tokenizer.encode(' contra')"
   ]
  },
  {
   "cell_type": "markdown",
   "id": "7c35a32b",
   "metadata": {},
   "source": [
    "2. Update the model Vocabulary"
   ]
  },
  {
   "cell_type": "code",
   "execution_count": 5,
   "id": "75b1eacb",
   "metadata": {},
   "outputs": [
    {
     "name": "stderr",
     "output_type": "stream",
     "text": [
      "The new embeddings will be initialized from a multivariate normal distribution that has old embeddings' mean and covariance. As described in this article: https://nlp.stanford.edu/~johnhew/vocab-expansion.html. To disable this, use `mean_resizing=False`\n"
     ]
    },
    {
     "data": {
      "text/plain": [
       "Embedding(156705, 1536)"
      ]
     },
     "execution_count": 5,
     "metadata": {},
     "output_type": "execute_result"
    }
   ],
   "source": [
    "# ----------------------------------------------------\n",
    "#               Update Model Vocabulary               \n",
    "# ----------------------------------------------------\n",
    "# Save the original tokenizations\n",
    "original_tokenization = {t: tokenizer.encode(t) for t in new_tokens}    # Necessary for the training bellow\n",
    "tokenizer.add_tokens(list(new_tokens))\n",
    "model.resize_token_embeddings(len(tokenizer))"
   ]
  },
  {
   "cell_type": "markdown",
   "id": "6f92817b",
   "metadata": {},
   "source": [
    "3. Initialize the embeddings using the Weighted average $w_i = w_{i+1} \\times K$ with $K=5$"
   ]
  },
  {
   "cell_type": "code",
   "execution_count": 8,
   "id": "b365d489",
   "metadata": {},
   "outputs": [
    {
     "name": "stderr",
     "output_type": "stream",
     "text": [
      "Initializing the embeddings for the new_tokens: 100%|██████████| 5040/5040 [00:00<00:00, 8580.08it/s]\n"
     ]
    }
   ],
   "source": [
    "# Step 4. Calculate the new embeddings for the new tokens\n",
    "embed = model.get_input_embeddings().weight.clone().to('cpu')\n",
    "new_embed = model.get_input_embeddings()\n",
    "\n",
    "# Initialize the embedding using the weighted average model\n",
    "K = 1.5 # Tested for values [1, 2, 3, 4, 5, 0.9, 0.8, 1.1, 1.2, ..., 1.6] and the best was 1.5 with (3.13%)\n",
    "with torch.no_grad():\n",
    "    for new_token in tqdm.tqdm(new_tokens, desc='Initializing the embeddings for the new_tokens'):\n",
    "        new_token_id = tokenizer.encode(new_token)[0]\n",
    "        # Find the old embedding for the token\n",
    "        tokenization = original_tokenization[new_token]\n",
    "        token_embed = torch.stack([embed[t_id] for t_id in tokenization]).to(DEVICE)\n",
    "        # Calculating the embedding weights\n",
    "        embedding_weights = torch.asarray([K**i if K**i < 2**64 else 0 for i in range(token_embed.shape[0], 0, -1)]).to(DEVICE)\n",
    "        # embedding_weights = torch.asarray([K**i for i in range(token_embed.shape[0], 0, -1)]).to(DEVICE)\n",
    "        embedding_weights = embedding_weights / embedding_weights.sum()\n",
    "\n",
    "        # Create a new token embed using the weighted average of the embeddings\n",
    "        new_token_embed = torch.sum(token_embed * embedding_weights[:, None], dim=0)\n",
    "        # new_token_embed = token_embed[0]\n",
    "        # Update embedding of the new_token in the hacked_model\n",
    "        _ = new_embed.weight[new_token_id].data.copy_(new_token_embed)\n",
    "\n"
   ]
  },
  {
   "cell_type": "markdown",
   "id": "25cc889e",
   "metadata": {},
   "source": [
    "### Benchmark Computation\n",
    "\n",
    "Calculating the results with the added tokens."
   ]
  },
  {
   "cell_type": "code",
   "execution_count": 9,
   "id": "77f11654",
   "metadata": {},
   "outputs": [
    {
     "name": "stderr",
     "output_type": "stream",
     "text": [
      "<Qwen/Qwen2.5-1.5B-Instruct-ADDED_TOKENS_INIT_K=1.5> Calculating inferences for inputs: 100%|██████████| 260/260 [01:27<00:00,  2.98it/s]"
     ]
    },
    {
     "name": "stdout",
     "output_type": "stream",
     "text": [
      "`CalamePT` Accuracy for Baseline  Model `Qwen/Qwen2.5-1.5B-Instruct-ADDED_TOKENS_INIT_K=1.5` = 44.85%\n"
     ]
    },
    {
     "name": "stderr",
     "output_type": "stream",
     "text": [
      "\n"
     ]
    }
   ],
   "source": [
    "# Update model name\n",
    "model.name_or_path = f'{MODEL}-ADDED_TOKENS_INIT_K={K}'\n",
    "\n",
    "# Update the \"max_new_tokens\" (since we added new_tokens, we may have a different value than previously)\n",
    "benchmark.config['max_new_tokens'] = max(len(tokenizer.encode(x)) for x in CalamePT().df['last_word'].values) + 1   # Maximum tokenization of predicted words\n",
    "benchmark_results_new_tokens = benchmark.run(model, tokenizer, original_tokenizer)\n",
    "print(f\"`CalamePT` Accuracy for Baseline  Model `{model.name_or_path}` = {benchmark_results_new_tokens['CalamePT']['result']:.2%}\")"
   ]
  },
  {
   "cell_type": "code",
   "execution_count": 10,
   "id": "a7857619",
   "metadata": {},
   "outputs": [
    {
     "name": "stderr",
     "output_type": "stream",
     "text": [
      "The attention mask is not set and cannot be inferred from input because pad token is same as eos token. As a consequence, you may observe unexpected behavior. Please pass your input's `attention_mask` to obtain reliable results.\n"
     ]
    },
    {
     "name": "stdout",
     "output_type": "stream",
     "text": [
      "Generation with new tokenizer = ` Ela correu durante horas para alcançar a linha de meta, pero se quedó sin energía y per`\n",
      "Generation with \"old tokenizer\" = ` Ela correu durante horas para alcançar a linha de chegada. \n",
      "- Foi um desaf`\n"
     ]
    }
   ],
   "source": [
    "phrase = ' Ela correu durante horas para alcançar a linha de'\n",
    "max_new_tokens = 10\n",
    "generation = tokenizer.decode(utils.generate(\n",
    "    model, tokenizer,\n",
    "    phrase,\n",
    "    DEVICE, \n",
    "    False, False,\n",
    "    max_new_tokens=max_new_tokens\n",
    ")[0])\n",
    "print(f'Generation with new tokenizer = `{generation}`')\n",
    "\n",
    "\n",
    "input_ids = tokenizer.encode(phrase)\n",
    "input_ids = [token for x in input_ids for token in original_tokenization.get(tokenizer.convert_ids_to_tokens(x), [x])]\n",
    "\n",
    "for n in range(10):\n",
    "    generation = model.generate(torch.Tensor([input_ids]).long().to(DEVICE), max_new_tokens=1)\n",
    "    generated_id = generation[0, -1].item()\n",
    "    input_ids.extend(\n",
    "        [token for token in original_tokenization.get(tokenizer.convert_ids_to_tokens(generated_id), [generated_id])]\n",
    "    )\n",
    "print(f'Generation with \"old tokenizer\" = `{tokenizer.decode(input_ids)}`')"
   ]
  },
  {
   "cell_type": "markdown",
   "id": "c46a8dd2",
   "metadata": {},
   "source": [
    "## Model with additional Tokens + \"Training\""
   ]
  },
  {
   "cell_type": "markdown",
   "id": "67017999",
   "metadata": {},
   "source": [
    "Training the model (already has the added tokens)"
   ]
  },
  {
   "cell_type": "code",
   "execution_count": null,
   "id": "ac64f97a",
   "metadata": {},
   "outputs": [
    {
     "name": "stderr",
     "output_type": "stream",
     "text": [
      "Updating the embeddings for the new tokens: 100%|██████████| 5040/5040 [40:42<00:00,  2.06it/s]  \n"
     ]
    }
   ],
   "source": [
    "# ----------------------------------------------------\n",
    "#     Update weights of Embeddings of new_tokens      \n",
    "# ----------------------------------------------------\n",
    "# Step 4.2 Using the training phrases to update the embedding weights\n",
    "learning_rate = 1e-6\n",
    "training_phrases: list[str] = CalamePT().prediction_prompts.to_list() # CalamePT dataset \n",
    "for new_token in tqdm.tqdm(new_tokens, desc='Updating the embeddings for the new tokens'):\n",
    "    new_token_id = tokenizer.convert_tokens_to_ids(new_token)\n",
    "    new_token = tokenizer.decode(new_token_id)\n",
    "    phrases_to_generate_new_token = [p for phrase in training_phrases for p in phrase.split(new_token)[:-1] if new_token in phrase and len(p) > 0]\n",
    "\n",
    "    if len(phrases_to_generate_new_token) == 0: continue\n",
    "    # Creating the Batched dataset (to run generation for multiple phrases at the same time)\n",
    "    dataloader = DataLoader(\n",
    "        TextDataset(phrases_to_generate_new_token, tokenizer, max_length=max(len(tokenizer.tokenize(x)) for x in phrases_to_generate_new_token)),\n",
    "        batch_size=GENERATION_BATCH_SIZE,\n",
    "        shuffle=False\n",
    "    )\n",
    "    # Process the batches\n",
    "    for batch in tqdm.tqdm(dataloader,  desc=f'  Generating tokens for new_token=`{new_token}` ', leave=False):\n",
    "        # Move batch tensors to the correct device\n",
    "        input_ids = batch['input_ids'].squeeze(1).to(DEVICE)\n",
    "        attention_mask = batch['attention_mask'].squeeze(1).to(DEVICE)\n",
    "\n",
    "        # Generate text\n",
    "        outputs = model.generate(\n",
    "            input_ids=input_ids,\n",
    "            attention_mask=attention_mask,\n",
    "            max_new_tokens=1,\n",
    "            num_beams=1,\n",
    "            num_return_sequences=1,\n",
    "            return_dict_in_generate=True,\n",
    "            output_logits=True,\n",
    "            output_scores=True,\n",
    "            output_hidden_states=True,\n",
    "            pad_token_id=tokenizer.pad_token_id\n",
    "        )\n",
    "\n",
    "        # Extract the generated sequences and their scores\n",
    "        generated_sequences = outputs.sequences\n",
    "        predicted_logits = outputs.logits\n",
    "\n",
    "        # Decode the input and generated sequences\n",
    "        input_texts = tokenizer.batch_decode(input_ids, skip_special_tokens=True)\n",
    "        generated_texts = tokenizer.batch_decode(generated_sequences, skip_special_tokens=True)\n",
    "        with torch.no_grad():\n",
    "            for i in range(len(input_texts)):\n",
    "                logits = predicted_logits[0][i]\n",
    "                logit_gradient = logits.max() - logits[new_token_id]\n",
    "                embed_out = outputs.hidden_states[0][-1][i][-1]\n",
    "                # normalize embed_out\n",
    "                embed_out = embed_out / embed_out.norm()\n",
    "\n",
    "                embed_in = new_embed.weight[new_token_id]\n",
    "\n",
    "                # Update the embedding table\n",
    "                _ = new_embed.weight[new_token_id].data.copy_((embed_in + logit_gradient * embed_out * learning_rate).to(DEVICE))"
   ]
  },
  {
   "cell_type": "markdown",
   "id": "2ecc32e0",
   "metadata": {},
   "source": [
    "### Update model name\n",
    "\n",
    "Changing the model name to include the \"added_tokens\" to distinguish between the older model"
   ]
  },
  {
   "cell_type": "code",
   "execution_count": 12,
   "id": "409a35f8",
   "metadata": {},
   "outputs": [],
   "source": [
    "model.name_or_path = f'{model.name_or_path} [TRAINED]'"
   ]
  },
  {
   "cell_type": "markdown",
   "id": "8df0d075",
   "metadata": {},
   "source": [
    "### Run the benchmark"
   ]
  },
  {
   "cell_type": "code",
   "execution_count": 13,
   "id": "e6cc5799",
   "metadata": {},
   "outputs": [
    {
     "name": "stderr",
     "output_type": "stream",
     "text": [
      "<Qwen/Qwen2.5-1.5B-Instruct-ADDED_TOKENS_INIT_K=1.5 [TRAINED]> Calculating inferences for inputs: 100%|██████████| 260/260 [01:41<00:00,  2.55it/s]"
     ]
    },
    {
     "name": "stdout",
     "output_type": "stream",
     "text": [
      "`CalamePT` Accuracy for Baseline Model `Qwen/Qwen2.5-1.5B-Instruct-ADDED_TOKENS_INIT_K=1.5 [TRAINED]` = 47.01%\n"
     ]
    },
    {
     "name": "stderr",
     "output_type": "stream",
     "text": [
      "\n"
     ]
    }
   ],
   "source": [
    "benchmark_results_new_tokens_trained = benchmark.run(model, tokenizer, original_tokenizer)\n",
    "print(f\"`CalamePT` Accuracy for Baseline Model `{model.name_or_path}` = {benchmark_results_new_tokens_trained['CalamePT']['result']:.2%}\")"
   ]
  },
  {
   "cell_type": "markdown",
   "id": "17d79d58",
   "metadata": {},
   "source": [
    "SAVE ALL Benchmarks in a JSON file"
   ]
  },
  {
   "cell_type": "code",
   "execution_count": 15,
   "id": "50f4e1f8",
   "metadata": {},
   "outputs": [],
   "source": [
    "import json\n",
    "with open('/home/yali/MEGA/Hack The Tockenizer/tests/qwen2.5-benchmark-results_V2_run2.json', 'w', encoding='utf-8') as f:\n",
    "    json.dump(benchmark.get_results(), f, indent=2, ensure_ascii=False)\n"
   ]
  },
  {
   "cell_type": "markdown",
   "id": "57a18d80",
   "metadata": {},
   "source": [
    "# Analysing the Results"
   ]
  },
  {
   "cell_type": "code",
   "execution_count": 1,
   "id": "bfb8a880",
   "metadata": {},
   "outputs": [
    {
     "data": {
      "application/vnd.microsoft.datawrangler.viewer.v0+json": {
       "columns": [
        {
         "name": "index",
         "rawType": "int64",
         "type": "integer"
        },
        {
         "name": "original_text",
         "rawType": "object",
         "type": "string"
        },
        {
         "name": "predicted_word_BB",
         "rawType": "object",
         "type": "string"
        },
        {
         "name": "predicted_word_IB",
         "rawType": "object",
         "type": "string"
        },
        {
         "name": "predicted_word_IT",
         "rawType": "object",
         "type": "string"
        },
        {
         "name": "expected_word",
         "rawType": "object",
         "type": "string"
        },
        {
         "name": "correct_prediction_BB",
         "rawType": "bool",
         "type": "boolean"
        },
        {
         "name": "correct_prediction_IB",
         "rawType": "bool",
         "type": "boolean"
        },
        {
         "name": "correct_prediction_IT",
         "rawType": "bool",
         "type": "boolean"
        }
       ],
       "conversionMethod": "pd.DataFrame",
       "ref": "b9938e78-0db1-42fa-b5f3-99380d18d035",
       "rows": [
        [
         "0",
         " A tragédia atingiu a família quando ele caiu no chão e não havia ninguém no local com formação em primeiros",
         "socorros",
         "socorros",
         "socorros",
         "socorros",
         "True",
         "True",
         "True"
        ],
        [
         "1",
         " A vida na aldeia é serena e simples, um refúgio perfeito longe da agitação da cidade. Hoje em dia é difícil encontrar um bom trabalho fora da cidade mas quando me quero sentir calma vou sempre para uma",
         "das",
         "pequena",
         "das",
         "aldeia",
         "False",
         "False",
         "False"
        ],
        [
         "2",
         " Ela correu durante horas para alcançar a linha de",
         "chegada",
         "chegada",
         "chegada",
         "chegada",
         "True",
         "True",
         "True"
        ],
        [
         "3",
         "\"A vida é feita de novos desafios. Assumirei este caminho com dedicação e empenho, honrando sempre a camisola que visto. Acredito no meu talento, mesmo que os tempos difíceis tenham abalado a minha confiança. Seguirei em frente, determinado a mostrar o meu",
         "melhor",
         "melhor",
         "melhor",
         "valor",
         "False",
         "False",
         "False"
        ],
        [
         "4",
         "\"Apesar das dificuldades que enfrento, sigo em frente com determinação e uma atitude positiva. Mesmo com nuvens negras no horizonte, eu continuo buscando a luz do sol. A chuva pode não ter passado completamente, mas acredito que estou cada vez mais perto de viver dias radiantes. Mudar de direção não é uma derrota, mas uma oportunidade de encontrar novos caminhos e superar obstáculos. Sou capaz de enfrentar qualquer desafio que apareça no meu",
         "caminho",
         "caminho",
         "caminho",
         "caminho",
         "True",
         "True",
         "True"
        ],
        [
         "5",
         "\"Busquei ser digno de ser conhecido, cultivando meu melhor sorriso em meio à multidão indiferente. Não me importei com os que não me conheciam, pois sabia que minha verdadeira essência seria revelada aos poucos, como uma semente que busca florescer. E assim, minha presença tornou-se como a sombra das folhas, trazendo conforto e beleza àqueles que cruzaram meu caminho. Se não houver frutos visíveis, que pelo menos minha intenção seja reconhecida, pois é na ação sincera e dedicada que se encontra o verdadeiro sentido da",
         "vida",
         "vida",
         "vida",
         "vida",
         "True",
         "True",
         "True"
        ],
        [
         "6",
         "\"Derek\" é uma série televisiva cativante que retrata a vida dos marginalizados na sociedade. Com uma mistura de drama e comédia, a história se desenrola em um lar de idosos, onde Derek, um gentil cuidador, conquista o coração dos residentes. Apesar das críticas mistas, a série aborda temas importantes como empatia, bondade e a importância de valorizar as pessoas independentemente de suas habilidades sociais. Numa sociedade que tende a marginalizar os diferentes, \"Derek\" nos lembra que ser gentil é mais valioso do que qualquer outra",
         "qualidade",
         "qualidade",
         "coisa",
         "coisa",
         "False",
         "False",
         "True"
        ],
        [
         "7",
         "\"Hearthstone: Heroes of Warcraft\" é um jogo viciante e cheio de caráter, que conquista os jogadores com sua simplicidade e atenção aos detalhes. Com uma comunidade vibrante, novos recursos constantes e uma variedade de cartas disponíveis, este jogo continua a encantar e crescer no mundo dos gamers. Apenas algumas melhorias, como a falta de troca de carta e modos de torneio, poderiam torná-lo ainda mais",
         "completo",
         "incrível",
         "completo",
         "perfeito",
         "False",
         "False",
         "False"
        ],
        [
         "8",
         "\"Love Me Harder\" é uma música que marcou uma parceria surpreendente entre dois artistas. Com um som maduro e letras que pedem por satisfação romântica, a canção conquistou críticos musicais e alcançou sucesso comercial em diversos países. O vídeo musical, marcado por uma atmosfera misteriosa, também recebeu elogios dos",
         "espectadores",
         "espectadores",
         "espectadores",
         "críticos",
         "False",
         "False",
         "False"
        ],
        [
         "9",
         "\"Sphagnum subnitens\", um musgo pleurocárpico com distribuição global, é conhecido por suas turfeiras dominantes no noroeste da América do Norte. Com estruturas em almofada e uma aparência metálica quando seco, suas características distintivas incluem pontas pontiagudas e tonalidades que variam do verde ao avermelhado. Esta planta monoica produz esporângios no início do verão, com esporos de tamanho diminuto. Através de sua morfologia única, \"Sphagnum subnitens\" contribui para a diversidade da",
         "floração",
         "floração",
         "floração",
         "flora",
         "False",
         "False",
         "False"
        ],
        [
         "10",
         "\"Tomar medidas para promover mudanças é fundamental para o desenvolvimento de uma sociedade. É preferível ser lembrado como alguém que lutou por reformas do que como alguém que se conformou com a inércia. A resistência contra tais mudanças é compreensível, mas é importante lembrar que a busca por progresso muitas vezes exige enfrentar dificuldades e superar obstáculos. A mobilização da população, por meio de protestos e greves, é uma forma legítima de expressar sua insatisfação e buscar melhores",
         "condições",
         "condições",
         "condições",
         "condições",
         "True",
         "True",
         "True"
        ],
        [
         "11",
         "\"Um grupo musical feminino lançou seu álbum de estreia, que alcançou uma posição modesta nas paradas. Apesar disso, duas de suas músicas ganharam destaque como singles. O trabalho foi reconhecido e recebeu certificação de ouro, mostrando o potencial do",
         "projeto",
         "projeto",
         "grupo",
         "grupo",
         "False",
         "False",
         "True"
        ],
        [
         "12",
         "\"Um álbum especial marcou o retorno dessa dupla, após um longo tempo sem lançamentos. A faixa-título, originalmente gravada por outra banda, se tornou um verdadeiro sucesso, conquistando milhares de downloads digitais. Um reconhecimento merecido para um trabalho que conquistou o coração dos",
         "fãs",
         "fãs",
         "fãs",
         "fãs",
         "True",
         "True",
         "True"
        ],
        [
         "13",
         "\"Uma canção envolvente, repleta de emoção e melodia cativante, que conquistou o coração do público. Com uma combinação incrível de talento e produção impecável, ela alcançou o topo das paradas musicais, mostrando todo o potencial",
         "dos",
         "dos",
         "dos",
         "artístico",
         "False",
         "False",
         "False"
        ],
        [
         "14",
         "\"Uma melodia contagiante, envolvente e cheia de vida conquistou os corações de fãs ao redor do mundo. Com uma mistura única de sons eletrônicos e vocais cativantes, essa canção se tornou um verdadeiro sucesso internacional. Sua presença nas paradas musicais é apenas um reflexo do impacto que ela causou no cenário musical, deixando todos os ouvintes desejando",
         "mais",
         "mais",
         "mais",
         "mais",
         "True",
         "True",
         "True"
        ],
        [
         "15",
         "\"Vai correr tudo bem. Mantenha-se firme e confie em si mesmo. Acredite no poder da mudança interior. O sol sempre volta a brilhar. Desperte para uma perspectiva positiva. Acredite em si, voe alto e seja grato por tudo que tem. Lembre-se, a vida é feita de momentos e experiências, então faça valer a",
         "sua",
         "sua",
         "pena",
         "pena",
         "False",
         "False",
         "True"
        ],
        [
         "16",
         "\"Você está à procura de um especialista em Serviço Doméstico? Com a Fixando, você finalmente encontrará a ajuda que precisa. Faça seu pedido agora e receba propostas de especialistas qualificados nessa área. Se você é um prestador de serviços, aumente sua base de",
         "clientes",
         "clientes",
         "clientes",
         "clientes",
         "True",
         "True",
         "True"
        ],
        [
         "17",
         "\"Yes\" é um sucesso inesquecível de uma dupla de artistas de música eletrónica. Esta música, escrita e produzida pelos membros da banda, conquistou os fãs com sua batida contagiante. Apesar de sua posição modesta nas paradas musicais, recebeu reconhecimento com o certificado de disco de ouro. Infelizmente, os dois membros desto grupo separaram-se poucos dias depois de receberem o",
         "certificado",
         "disco",
         "disco",
         "certificado",
         "True",
         "False",
         "False"
        ],
        [
         "18",
         "A Acadêmicos de Madureira, escola de samba do Rio de Janeiro, surgiu em 2013 e logo conquistou seu espaço no Carnaval carioca. Com cores que homenageiam outras escolas de samba do bairro, o azul da Portela e o verde do Império Serrano, a agremiação se destaca pela sua história e personalidades envolvidas. Apesar dos desafios enfrentados, a Acadêmicos de Madureira continua encantando o público com seu desfile e recebendo",
         "elogios",
         "elogios",
         "elogios",
         "premiações",
         "False",
         "False",
         "False"
        ],
        [
         "19",
         "A Amazónia, lar da maior diversidade biológica do planeta, também abriga a maior diversidade de morcegos do mundo. Com mais de 160 espécies, é desafiador identificar e conhecer todas elas. Um guia de campo digital, desenvolvido por uma equipe internacional de pesquisadores, busca facilitar essa tarefa e disponibilizar informações sobre esses animais fascinantes. Este livro é uma valiosa ferramenta para todos que desejam explorar e aprender sobre a riqueza natural da região",
         "O",
         "amazônica",
         "amazônica",
         "amazônica",
         "False",
         "True",
         "True"
        ],
        [
         "20",
         "A Aptidãocompleta é uma entidade formadora especializada em proteção de pessoas e bens. Oferecemos uma variedade de cursos nas áreas de Segurança Privada, Formação Pedagógica, Saúde, Estética, Transportes, entre outros. Estamos comprometidos em fornecer soluções de",
         "treinamento",
         "treinamento",
         "treinamento",
         "formação",
         "False",
         "False",
         "False"
        ],
        [
         "21",
         "A Associação Médica Mundial é uma organização internacional comprometida com os mais altos padrões éticos e médicos profissionais. Seu objetivo é melhorar a qualidade de vida das pessoas em todo o mundo, promovendo um tratamento de qualidade e a liberdade profissional dos",
         "médicos",
         "médicos",
         "médicos",
         "médicos",
         "True",
         "True",
         "True"
        ],
        [
         "22",
         "A Associação Nacional das Farmácias apela ao Parlamento para que sejam tomadas medidas urgentes para garantir a continuidade dos serviços farmacêuticos aos cidadãos. As farmácias suspenderão o seu funcionamento durante 23 minutos em protesto contra a falta de investimento público e a indecisão do Estado. Cerca de 24% das farmácias encontram-se em situação de penhora e insolvência devido às medidas de",
         "austeridade",
         "restrição",
         "prevenção",
         "austeridade",
         "True",
         "False",
         "False"
        ],
        [
         "23",
         "A Associação Nacional dos Procuradores Municipais é a entidade máxima de representação dos procuradores municipais no Brasil, atuando na defesa dos interesses e prerrogativas profissionais da categoria. Sua missão é buscar o reconhecimento e fortalecimento da carreira, lutando por um padrão de lisura e legalidade nos atos praticados pelas Prefeituras. A ANPM também atua na vigilância dos recursos públicos e na luta contra a",
         "corrupção",
         "corrupção",
         "corrupção",
         "corrupção",
         "True",
         "True",
         "True"
        ],
        [
         "24",
         "A Associação de Ginásios e Academias expressou hoje a sua preocupação com o impacto do aumento do IVA no setor, que resultou numa queda de 14% na faturação e de 10% no número de praticantes. A associação pediu a suspensão do aumento do imposto para avaliar as consequências dramáticas que terá para os ginásios. Com base num estudo realizado em várias cidades, foi constatado que muitos destes",
         "clubes",
         "clubes",
         "espaços",
         "ginásios",
         "False",
         "False",
         "False"
        ],
        [
         "25",
         "A Associação dos Portos de Portugal é um espaço de debate e informação para os portos e transportes marítimos, contribuindo para o desenvolvimento do sistema portuário nacional. Aproveite o verão ao máximo, desfrutando das praias e do mar. O solstício marca o início do verão, a estação mais quente do ano, que dura 93,65 dias até ao próximo equinócio. Aproveite cada minuto deste período, como se não houvesse",
         "amanhã",
         "amanhã",
         "amanhã",
         "amanhã",
         "True",
         "True",
         "True"
        ],
        [
         "26",
         "A Associação dos Portos de Portugal é uma instituição que visa promover o debate e o intercâmbio de informações relacionadas aos portos e ao transporte marítimo. Sua principal missão é contribuir para o desenvolvimento e modernização do Sistema Portuário Nacional, sendo um espaço privilegiado para reflexão e tomada de decisões. Através do Centro de Documentação e Informação, disponibiliza informações relevantes sobre o Porto de Lisboa, tanto para os colaboradores da Administração do Porto como para o público em",
         "geral",
         "geral",
         "geral",
         "geral",
         "True",
         "True",
         "True"
        ],
        [
         "27",
         "A Autoridade Marítima Nacional alertou para o agravamento severo do estado do mar, que trará ondas poderosas nos próximos dias. É fundamental tomar precauções e evitar a costa exposta à agitação marítima. A Marinha e outras autoridades estão em prontas para garantir a segurança no",
         "mar",
         "período",
         "mar",
         "mar",
         "True",
         "False",
         "True"
        ],
        [
         "28",
         "A Brenneke GmbH é uma renomada fabricante alemã de munições e balas, reconhecida por sua alta qualidade e tradição no mercado. Seus produtos, como cartuchos de espingarda para caça e balas especiais para aplicação da lei, são amplamente utilizados e apreciados por atiradores e caçadores. A empresa é conhecida pelo \"padrão Langenhagener\", que estabelece limites de desvio para as balas de espingarda durante a caça. Além disso, suas balas para rifles são conhecidas pelo design inovador, como a forma especial \"torpedo-tail\". A Brenneke GmbH continua a ser uma referência no mercado, fornecendo munições e balas de alta performance para os mais diversos",
         "usos",
         "usos",
         "usos",
         "fins",
         "False",
         "False",
         "False"
        ],
        [
         "29",
         "A Compra Comigo, Lda, localizada em Lisboa, é uma empresa especializada em consultoria em informática. Com uma equipa de profissionais altamente qualificados, a empresa oferece soluções personalizadas para gestão, vendas e empregados. Sempre atualizada, a Compra Comigo, Lda mantém os seus clientes informados sobre os últimos saldos e notícias do setor. Com uma reputação sólida e confiável, a empresa é uma referência no mercado",
         "português",
         "Sobre",
         "Para",
         "empresarial",
         "False",
         "False",
         "False"
        ],
        [
         "30",
         "A Câmara Municipal de Setúbal está a promover um encontro com os moradores da Azinhaga dos Espanhóis e Vale de Cerejeiras para apresentar um projeto de requalificação daquela zona da cidade. A sessão pública tem como objetivo debater as propostas e soluções previstas no projeto, de forma a estabelecer um plano de intervenções que seja consensual entre todas as partes interessadas. As medidas contempladas incluem arranjos de passeios e zonas verdes, reordenamento do estacionamento automóvel e remoção de ruínas. Esta iniciativa faz parte do programa municipal \"Ouvir a População, Construir o Futuro\", que visa promover a participação e envolvimento dos munícipes na definição das políticas",
         "públicas",
         "públicas",
         "públicas",
         "municipais",
         "False",
         "False",
         "False"
        ],
        [
         "31",
         "A Câmara de um distrito do Porto está a investir em vias dedicadas ao transporte público, incluindo bicicletas elétricas e veículos elétricos. Este projeto visa melhorar a mobilidade na região, oferecendo percursos rápidos e eficientes. Além disso, o objetivo é incentivar as pessoas a deixarem os carros em casa e optarem pelo transporte público como o metro ou as bicicletas",
         "Os",
         "O",
         "O",
         "elétricas",
         "False",
         "False",
         "False"
        ],
        [
         "32",
         "A Câmara decidiu enviar para discussão pública a proposta de revisão do Plano Director Municipal. No entanto, a decisão não foi consensual e recebeu críticas da oposição. Houve discordância quanto ao período de discussão pública, considerado muito curto. Segundo o presidente da câmara, o novo documento irá proporcionar mais atractividade, competitividade e sustentabilidade ao concelho. Além disso, será dada prioridade a uma política de desenvolvimento sustentável, salvaguardando os recursos naturais. Uma moção contra a privatização da Linha de Cascais foi também apresentada, mas chumbada pela maioria. O presidente da câmara afirmou que o modelo previsto não é a privatização, mas sim a concessão dos",
         "direitos",
         "direitos",
         "direitos",
         "serviços",
         "False",
         "False",
         "False"
        ],
        [
         "33",
         "A Doença de Crohn é uma condição inflamatória que afeta o aparelho gastrointestinal, causando períodos de exacerbação intercalados por momentos de remissão. As manifestações podem incluir lesões perianais, abcessos e fístulas. O diagnóstico é feito através de exames clínicos e imagens. O tratamento visa controlar a inflamação e melhorar a qualidade de vida do paciente, podendo incluir medicamentos e, em casos graves, cirurgia. É importante um acompanhamento médico contínuo para monitorar a evolução da",
         "doença",
         "doença",
         "doença",
         "doença",
         "True",
         "True",
         "True"
        ],
        [
         "34",
         "A Entidade Reguladora propôs um aumento de quatro por cento nas tarifas de energia, um valor inferior ao esperado. Isso foi possível graças a alterações legislativas e regulamentares realizadas anteriormente. A proposta justifica o aumento como resultado do adiamento de pagamentos futuros e da transferência de responsabilidade dos custos de entrada nas redes para os produtores. O aumento terá um impacto médio de 1,75 euros por mês na fatura dos consumidores, afetando a maioria dos lares no país. O aumento para os clientes com tarifa social foi fixado em 2,3 por cento. Os principais fatores para o aumento das tarifas são o custo da matéria-prima no mercado internacional, os incentivos à produção de energia renovável e a queda prevista no consumo de energia. O défice tarifário é estimado em 1627 milhões de euros para o próximo",
         "ano",
         "ano",
         "ano",
         "ano",
         "True",
         "True",
         "True"
        ],
        [
         "35",
         "A Eparquia Siro-Malabar de Mississauga é uma comunidade católica que foi fundada há alguns anos, com o objetivo de proporcionar um ambiente de fé e devoção aos fiéis. Com diversas paróquias em seu território, ela se tornou um importante centro religioso, onde os católicos podem celebrar sua fé de acordo com o rito Siro-Malabar. Sua sede está localizada na cidade de Mississauga, em Ontário. Com o apoio da Santa Sé, a eparquia cresceu ao longo do tempo e continua a ser um símbolo de amor e comunhão para os seus",
         "fiéis",
         "fiéis",
         "fiéis",
         "congregantes",
         "False",
         "False",
         "False"
        ],
        [
         "36",
         "A Escola Oficina é um projeto inovador que valoriza a capacitação de pessoas desempregadas e a sustentabilidade ambiental. Através da formação e do desenvolvimento de atividades práticas, transformam lixo e desperdício em produtos finais de valor acrescentado. O projeto tem impactado positivamente a vida de centenas de pessoas, orientando-as para a inserção no mercado de trabalho e promovendo a integração social",
         "No",
         "A",
         "O",
         "qualificada",
         "False",
         "False",
         "False"
        ],
        [
         "37",
         "A Eu Danço é um espaço que oferece uma ampla variedade de serviços complementares, incluindo workshops de Teatro Musical que acontecem em Julho. Durante esses workshops, nossos talentosos alunos têm tido a oportunidade de mostrar suas inúmeras qualidades. Além disso, oferecemos aulas individuais, temáticas e até realizamos festas de aniversário, garantindo uma ocupação de tempos livres divertida e",
         "gratificante",
         "produtiva",
         "enriquecedora",
         "enriquecedora",
         "False",
         "False",
         "True"
        ],
        [
         "38",
         "A EuroLiga é a principal competição de basquetebol masculino da Europa, sendo considerada uma das ligas profissionais de esportes indoor mais populares do mundo. Desde sua criação, vários clubes diferentes levantaram o título, mas o Real Madrid é o mais bem-sucedido, com dez conquistas. A competição surgiu em substituição à antiga Copa dos Campeões Europeus da FIBA, quando a Euroleague Basketball assumiu a organização do campeonato. O basquete profissional europeu foi então dividido entre a FIBA, responsável pelas competições de seleções, e a Euroleague Basketball, que assumiu as competições de",
         "clubes",
         "clubes",
         "clubes",
         "clubes",
         "True",
         "True",
         "True"
        ],
        [
         "39",
         "A Europa ocidental está enfrentando uma onda de calor histórica, com temperaturas atingindo níveis recordes em várias cidades. Alertas vermelhos foram emitidos em muitos países devido ao calor extremo. As autoridades estão tomando medidas drásticas, como fechar serviços e proibir fumar em áreas naturais, para evitar incêndios. A população está sendo aconselhada a tomar",
         "precauções",
         "cuidados",
         "cuidado",
         "precauções",
         "True",
         "False",
         "False"
        ],
        [
         "40",
         "A Faculdade de Arquitetura está enfrentando sérios problemas financeiros e corre o risco de não ter capacidade para pagar salários a partir de junho. A situação é considerada muito difícil pelo reitor, que está buscando ajuda do ministério para encontrar soluções. Uma das possíveis medidas seria a não renovação dos contratos dos professores convidados, o que poderia resultar na redução do número de docentes. Os estudantes também estão preocupados com essa situação e irão se reunir em uma assembleia geral para discuti-la. É necessário encontrar soluções para garantir a sustentabilidade da faculdade a longo",
         "prazo",
         "prazo",
         "prazo",
         "prazo",
         "True",
         "True",
         "True"
        ],
        [
         "41",
         "A Força Aérea de Autodefesa mantém uma rede integrada de instalações para defender o país. Com aviões e mísseis para interceptar aeronaves hostis, eles contam com a colaboração de outro país para reforçar suas capacidades. Apesar das restrições pós-guerra, o Japão criou uma força militar para substituir as tropas americanas. Com um inventário considerável de",
         "armamentos",
         "armamento",
         "armamentos",
         "aeronaves",
         "False",
         "False",
         "False"
        ],
        [
         "42",
         "A Galeria Municipal de uma vila vai inaugurar uma exposição de pintura de um artista plástico. As obras são coloridas e expressivas, transmitindo alegria e positividade. A exposição ficará aberta por um mês. A galeria fica localizada em um centro histórico e apresenta um cromatismo",
         "vibrante",
         "vibrante",
         "vibrante",
         "harmonioso",
         "False",
         "False",
         "False"
        ],
        [
         "43",
         "A Infiniti, marca de luxo da Nissan, revelou uma inovação no setor automotivo: um motor de combustão com taxa de compressão variável. Essa tecnologia permite alcançar níveis de eficiência semelhantes aos motores a diesel, além de oferecer potência equivalente. Com essa nova motorização, a Infiniti promete maior economia de combustível, menor emissão de poluentes, menor vibração e ruído, e custos de produção mais baixos. Essa inovação certamente trará avanços significativos para a indústria",
         "do",
         "automobilística",
         "automobilística",
         "automobilística",
         "False",
         "True",
         "True"
        ],
        [
         "44",
         "A Lei Moral é um princípio universal que nos guia para agirmos de acordo com o que é considerado válido para todos. Ela é intrínseca a cada indivíduo, independentemente de suas crenças, e nos permite discernir entre o bem e o mal. Kant acreditava que, quando agimos por dever, a razão determina tanto os meios quanto o fim das nossas",
         "ações",
         "ações",
         "ações",
         "ações",
         "True",
         "True",
         "True"
        ],
        [
         "45",
         "A Maria começou a fazer uma tosta mista durante a noite porque tinha imensa fome. Além disto ela não estava a conseguir dormir, então tinha esperança que a tosta mista fosse suficiente para lhe saciar a",
         "fome",
         "fome",
         "fome",
         "fome",
         "True",
         "True",
         "True"
        ],
        [
         "46",
         "A Marinha realizou três resgates de emergência em navios de cruzeiro no Funchal, Madeira. Os passageiros resgatados tinham problemas de saúde, como um ombro deslocado, uma doença cardíaca e sintomas de enfarte. As operações de resgate foram conduzidas pelo Instituto de Socorros a Náufragos, em colaboração com a Cruz Vermelha e os Bombeiros Sapadores do Funchal. A informação sobre os resgates foi rapidamente comunicada ao Centro de Orientação de Doentes Urgentes no Mar. A Polícia Marítima local ficou encarregue das",
         "investigações",
         "operações",
         "investigações",
         "ocorrências",
         "False",
         "False",
         "False"
        ],
        [
         "47",
         "A NDTV Blumenau é uma emissora de televisão sediada em Blumenau, SC. Com transmissores estrategicamente posicionados para superar as dificuldades de recepção na região montanhosa, a emissora oferece uma variedade de programas locais e retransmite a programação nacional da RecordTV. Além disso, a NDTV Blumenau tem o orgulho de ter sido uma das primeiras emissoras da cidade a adotar o sinal digital, proporcionando uma melhor qualidade de imagem aos",
         "seus",
         "telespectadores",
         "seus",
         "telespectadores",
         "False",
         "True",
         "False"
        ],
        [
         "48",
         "A Niquetamida, conhecida pelo antigo nome comercial \"Coramine\", já foi amplamente utilizada como contramedida médica contra overdoses de tranquilizantes. Entretanto, com o avanço da medicina e técnicas mais avançadas, esse medicamento perdeu seu valor porque surgiram novas formas de lidar com as",
         "overdose",
         "overdose",
         "situações",
         "overdoses",
         "False",
         "False",
         "False"
        ],
        [
         "49",
         "A Ordem dos Notários defende a independência dos seus profissionais e repudia qualquer tentativa de manchar a reputação dos profissionais. Esclarece que não estão subordinados a outras entidades e que tomará medidas contra aqueles que deliberadamente prejudicarem o bom nome dos",
         "notários",
         "notários",
         "notários",
         "profissionais",
         "False",
         "False",
         "False"
        ]
       ],
       "shape": {
        "columns": 8,
        "rows": 2076
       }
      },
      "text/html": [
       "<div>\n",
       "<style scoped>\n",
       "    .dataframe tbody tr th:only-of-type {\n",
       "        vertical-align: middle;\n",
       "    }\n",
       "\n",
       "    .dataframe tbody tr th {\n",
       "        vertical-align: top;\n",
       "    }\n",
       "\n",
       "    .dataframe thead th {\n",
       "        text-align: right;\n",
       "    }\n",
       "</style>\n",
       "<table border=\"1\" class=\"dataframe\">\n",
       "  <thead>\n",
       "    <tr style=\"text-align: right;\">\n",
       "      <th></th>\n",
       "      <th>original_text</th>\n",
       "      <th>predicted_word_BB</th>\n",
       "      <th>predicted_word_IB</th>\n",
       "      <th>predicted_word_IT</th>\n",
       "      <th>expected_word</th>\n",
       "      <th>correct_prediction_BB</th>\n",
       "      <th>correct_prediction_IB</th>\n",
       "      <th>correct_prediction_IT</th>\n",
       "    </tr>\n",
       "  </thead>\n",
       "  <tbody>\n",
       "    <tr>\n",
       "      <th>0</th>\n",
       "      <td>A tragédia atingiu a família quando ele caiu ...</td>\n",
       "      <td>socorros</td>\n",
       "      <td>socorros</td>\n",
       "      <td>socorros</td>\n",
       "      <td>socorros</td>\n",
       "      <td>True</td>\n",
       "      <td>True</td>\n",
       "      <td>True</td>\n",
       "    </tr>\n",
       "    <tr>\n",
       "      <th>1</th>\n",
       "      <td>A vida na aldeia é serena e simples, um refúg...</td>\n",
       "      <td>das</td>\n",
       "      <td>pequena</td>\n",
       "      <td>das</td>\n",
       "      <td>aldeia</td>\n",
       "      <td>False</td>\n",
       "      <td>False</td>\n",
       "      <td>False</td>\n",
       "    </tr>\n",
       "    <tr>\n",
       "      <th>2</th>\n",
       "      <td>Ela correu durante horas para alcançar a linh...</td>\n",
       "      <td>chegada</td>\n",
       "      <td>chegada</td>\n",
       "      <td>chegada</td>\n",
       "      <td>chegada</td>\n",
       "      <td>True</td>\n",
       "      <td>True</td>\n",
       "      <td>True</td>\n",
       "    </tr>\n",
       "    <tr>\n",
       "      <th>3</th>\n",
       "      <td>\"A vida é feita de novos desafios. Assumirei e...</td>\n",
       "      <td>melhor</td>\n",
       "      <td>melhor</td>\n",
       "      <td>melhor</td>\n",
       "      <td>valor</td>\n",
       "      <td>False</td>\n",
       "      <td>False</td>\n",
       "      <td>False</td>\n",
       "    </tr>\n",
       "    <tr>\n",
       "      <th>4</th>\n",
       "      <td>\"Apesar das dificuldades que enfrento, sigo em...</td>\n",
       "      <td>caminho</td>\n",
       "      <td>caminho</td>\n",
       "      <td>caminho</td>\n",
       "      <td>caminho</td>\n",
       "      <td>True</td>\n",
       "      <td>True</td>\n",
       "      <td>True</td>\n",
       "    </tr>\n",
       "    <tr>\n",
       "      <th>...</th>\n",
       "      <td>...</td>\n",
       "      <td>...</td>\n",
       "      <td>...</td>\n",
       "      <td>...</td>\n",
       "      <td>...</td>\n",
       "      <td>...</td>\n",
       "      <td>...</td>\n",
       "      <td>...</td>\n",
       "    </tr>\n",
       "    <tr>\n",
       "      <th>2071</th>\n",
       "      <td>Wanda dos Santos, uma atleta afrodescendente, ...</td>\n",
       "      <td>jovens</td>\n",
       "      <td>pessoas</td>\n",
       "      <td>jovens</td>\n",
       "      <td>crianças</td>\n",
       "      <td>False</td>\n",
       "      <td>False</td>\n",
       "      <td>False</td>\n",
       "    </tr>\n",
       "    <tr>\n",
       "      <th>2072</th>\n",
       "      <td>À noite tudo fica escuro mas a sorte é que nos...</td>\n",
       "      <td>12</td>\n",
       "      <td>1228</td>\n",
       "      <td>87</td>\n",
       "      <td>estrelas</td>\n",
       "      <td>False</td>\n",
       "      <td>False</td>\n",
       "      <td>False</td>\n",
       "    </tr>\n",
       "    <tr>\n",
       "      <th>2073</th>\n",
       "      <td>É importante sempre confirmar as informações p...</td>\n",
       "      <td>atentos</td>\n",
       "      <td>sempre</td>\n",
       "      <td>atentos</td>\n",
       "      <td>atentos</td>\n",
       "      <td>True</td>\n",
       "      <td>False</td>\n",
       "      <td>True</td>\n",
       "    </tr>\n",
       "    <tr>\n",
       "      <th>2074</th>\n",
       "      <td>É na França que ocorre uma das competições de ...</td>\n",
       "      <td>atletas</td>\n",
       "      <td>atletas</td>\n",
       "      <td>atletas</td>\n",
       "      <td>ciclistas</td>\n",
       "      <td>False</td>\n",
       "      <td>False</td>\n",
       "      <td>False</td>\n",
       "    </tr>\n",
       "    <tr>\n",
       "      <th>2075</th>\n",
       "      <td>É proíbido dançar no palco principal do festiv...</td>\n",
       "      <td>da</td>\n",
       "      <td>secundário</td>\n",
       "      <td>secundário</td>\n",
       "      <td>principal</td>\n",
       "      <td>False</td>\n",
       "      <td>False</td>\n",
       "      <td>False</td>\n",
       "    </tr>\n",
       "  </tbody>\n",
       "</table>\n",
       "<p>2076 rows × 8 columns</p>\n",
       "</div>"
      ],
      "text/plain": [
       "                                          original_text predicted_word_BB  \\\n",
       "0      A tragédia atingiu a família quando ele caiu ...          socorros   \n",
       "1      A vida na aldeia é serena e simples, um refúg...               das   \n",
       "2      Ela correu durante horas para alcançar a linh...           chegada   \n",
       "3     \"A vida é feita de novos desafios. Assumirei e...            melhor   \n",
       "4     \"Apesar das dificuldades que enfrento, sigo em...           caminho   \n",
       "...                                                 ...               ...   \n",
       "2071  Wanda dos Santos, uma atleta afrodescendente, ...            jovens   \n",
       "2072  À noite tudo fica escuro mas a sorte é que nos...                12   \n",
       "2073  É importante sempre confirmar as informações p...           atentos   \n",
       "2074  É na França que ocorre uma das competições de ...           atletas   \n",
       "2075  É proíbido dançar no palco principal do festiv...                da   \n",
       "\n",
       "     predicted_word_IB predicted_word_IT expected_word  correct_prediction_BB  \\\n",
       "0             socorros          socorros      socorros                   True   \n",
       "1              pequena               das        aldeia                  False   \n",
       "2              chegada           chegada       chegada                   True   \n",
       "3               melhor            melhor         valor                  False   \n",
       "4              caminho           caminho       caminho                   True   \n",
       "...                ...               ...           ...                    ...   \n",
       "2071           pessoas            jovens      crianças                  False   \n",
       "2072              1228                87      estrelas                  False   \n",
       "2073            sempre           atentos       atentos                   True   \n",
       "2074           atletas           atletas     ciclistas                  False   \n",
       "2075        secundário        secundário     principal                  False   \n",
       "\n",
       "      correct_prediction_IB  correct_prediction_IT  \n",
       "0                      True                   True  \n",
       "1                     False                  False  \n",
       "2                      True                   True  \n",
       "3                     False                  False  \n",
       "4                      True                   True  \n",
       "...                     ...                    ...  \n",
       "2071                  False                  False  \n",
       "2072                  False                  False  \n",
       "2073                  False                   True  \n",
       "2074                  False                  False  \n",
       "2075                  False                  False  \n",
       "\n",
       "[2076 rows x 8 columns]"
      ]
     },
     "execution_count": 1,
     "metadata": {},
     "output_type": "execute_result"
    }
   ],
   "source": [
    "import json\n",
    "import pandas as pd\n",
    "\n",
    "with open('/home/yali/MEGA/Hack The Tockenizer/tests/qwen2.5-benchmark-results_V2_run2.json', 'r') as f:\n",
    "    results: dict[str, dict[str, dict]] = json.load(f)\n",
    "\n",
    "data = []\n",
    "for model_name in results.keys():\n",
    "    for benchmark_name in results[model_name].keys():\n",
    "        for epoch_n, result in enumerate(results[model_name][benchmark_name]['results']):\n",
    "            result: dict\n",
    "            data.append(result.copy())\n",
    "            data[-1]['model_name'] = model_name\n",
    "            data[-1]['epoch_number'] = epoch_n\n",
    "\n",
    "            r = data[-1].pop('benchmark_predictions')\n",
    "            data[-1]['original_text']   = [gen[\"text\"]          for gen in r]\n",
    "            data[-1]['expected_word']   = [gen[\"correct_word\"]  for gen in r]\n",
    "            data[-1]['predicted_word']  = [gen[\"prediction\"]    for gen in r]\n",
    "\n",
    "df = pd.DataFrame(data).explode(['original_text', 'expected_word', 'predicted_word'])\n",
    "# Changing the model name to only 2 letters, the first specifies if the model has been initialized or not, and the second one specifies if it has been trained or not\n",
    "df['model_name'] = df['model_name'].map({\n",
    "    'Qwen/Qwen2.5-1.5B-Instruct':                                   'BB',   # Baseline,    Baseline  \n",
    "    'Qwen/Qwen2.5-1.5B-Instruct [TRAINED]':                         'BT',   # Baseline,    Trained  (currently not existing)\n",
    "    'Qwen/Qwen2.5-1.5B-Instruct-ADDED_TOKENS_INIT_K=1.5':           'IB',   # Initialized, Baseline\n",
    "    'Qwen/Qwen2.5-1.5B-Instruct-ADDED_TOKENS_INIT_K=1.5 [TRAINED]': 'IT',   # Initialized, Trained\n",
    "})\n",
    "\n",
    "\n",
    "df = df.pivot(\n",
    "    index='original_text', columns=['model_name'], values=['predicted_word', 'expected_word']\n",
    ")\n",
    "df.columns = ['_'.join(col) for col in df.columns]\n",
    "df = df[['predicted_word_BB', 'predicted_word_IB', 'predicted_word_IT', 'expected_word_BB']].reset_index().rename(columns={'expected_word_BB': 'expected_word'})\n",
    "\n",
    "for model in [f'{init}{train}' for init in ['B', 'I'] for train in ['B', 'T']]:\n",
    "    # There is no \"BaselineTrained\" model, YET\n",
    "    if model == 'BT':\n",
    "        continue\n",
    "    df[f'correct_prediction_{model}'] = df[f'predicted_word_{model}'] == df['expected_word']\n",
    "\n",
    "df"
   ]
  },
  {
   "cell_type": "markdown",
   "id": "f9f0bb2e",
   "metadata": {},
   "source": [
    "Saving to csv file"
   ]
  },
  {
   "cell_type": "code",
   "execution_count": 17,
   "id": "53df0fda",
   "metadata": {},
   "outputs": [],
   "source": [
    "df.to_csv('/home/yali/MEGA/Hack The Tockenizer/tests/qwen2.5-benchmark-results_V2_analysis.csv', index=False)"
   ]
  },
  {
   "cell_type": "code",
   "execution_count": null,
   "id": "f19e1069",
   "metadata": {},
   "outputs": [],
   "source": [
    "# Next STEP: TRAIN the baseline model with a \"normal\" approach for the same amount of time and compare the results."
   ]
  }
 ],
 "metadata": {
  "kernelspec": {
   "display_name": ".venv",
   "language": "python",
   "name": "python3"
  },
  "language_info": {
   "codemirror_mode": {
    "name": "ipython",
    "version": 3
   },
   "file_extension": ".py",
   "mimetype": "text/x-python",
   "name": "python",
   "nbconvert_exporter": "python",
   "pygments_lexer": "ipython3",
   "version": "3.12.3"
  }
 },
 "nbformat": 4,
 "nbformat_minor": 5
}
